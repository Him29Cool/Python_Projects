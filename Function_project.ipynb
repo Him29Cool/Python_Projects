{
 "cells": [
  {
   "cell_type": "markdown",
   "id": "02bba8f3",
   "metadata": {},
   "source": [
    "## Questions on Functions"
   ]
  },
  {
   "cell_type": "markdown",
   "id": "58d1752d",
   "metadata": {},
   "source": [
    "<ol>\n",
    "<li>WAF to calculate SI given P,R,T as its arguments</li>\n",
    "<li>WAF to calculate profit or Loss and also find its \n",
    "percentage given CP and SP as its arguments</li>\n",
    "<li>WAF to calculate the diagonal of a rectangle \n",
    "given its area and breadth as its arguments </li>\n",
    "<li>WAF to find the farenheit values corresponding to Celcius \n",
    "values ranging from 0 to 40</li>\n",
    "<li>WAF to find the TSA of a cone given its volume and height.\n",
    "Also find the area of the circular base.</li>\n",
    "<li>WAF to find the sum and product of digits of a given number as its arguments</li>\n",
    "<li>WAF to find n digits of fibonaci series, given n as agrument using recursion</li>    \n",
    "<li>WAF to check if a number is  palindrome</li>\n",
    "<li>WAF to check if a number is  armstrong</li>\n",
    "<li>WAF to find HCF and LCM of 2 given numbers</li>    \n",
    "<li>WAF to print the initials of a name given its first and last name are user defined, e.g. Abdul Kalam - AK</li>\n",
    "<li>WAF to find the number of uppercase ,lowercase and space characters given a string as its arguments</li> \n",
    "<li> WAF to check if a number is prime or not</li>    \n",
    "</ol>"
   ]
  },
  {
   "cell_type": "code",
   "execution_count": 20,
   "id": "4b4cb241",
   "metadata": {},
   "outputs": [
    {
     "name": "stdout",
     "output_type": "stream",
     "text": [
      "2000.0\n"
     ]
    }
   ],
   "source": [
    "#WAF to calculate SI given P,R,T as its arguments\n",
    "def cal_si(p,r,t):\n",
    "    SI=(p*r*t/100)\n",
    "    print(SI)\n",
    "cal_si(5000,20,2)\n",
    "    "
   ]
  },
  {
   "cell_type": "code",
   "execution_count": 25,
   "id": "bdfa6b43",
   "metadata": {},
   "outputs": [
    {
     "name": "stdout",
     "output_type": "stream",
     "text": [
      "Profit is 150\n",
      "Profit percentage is 30.0\n"
     ]
    }
   ],
   "source": [
    "#WAF to calculate profit or Loss and also find its percentage given CP and SP as its arguments?\n",
    "def prod(a=650,b=500):\n",
    "#a=sale price\n",
    "#b=cost price\n",
    "#n=profit\n",
    "#m=profit percent\n",
    "    n=(a-b)\n",
    "    m=((a-b)/b)*100\n",
    "    print(\"Profit is\",n)\n",
    "    print(\"Profit percentage is\",m)\n",
    "prod()"
   ]
  },
  {
   "cell_type": "code",
   "execution_count": 28,
   "id": "900c1b64",
   "metadata": {},
   "outputs": [
    {
     "name": "stdout",
     "output_type": "stream",
     "text": [
      "10\n",
      "area of rac:48\n",
      "8.0\n",
      "digonal of rac:10.0\n"
     ]
    }
   ],
   "source": [
    "#WAF to calculate the diagonal of a rectangle given its area and breadth as its arguments?\n",
    "def mas(b=5,l=2):\n",
    "#area=b*l\n",
    "    print(b*l)\n",
    "mas()\n",
    "def mas(l=8,b=6):\n",
    "    a=(l*b)\n",
    "    l=(a/b)\n",
    "    c=(l**2+b**2)**(1/2)\n",
    "   \n",
    "    print('area of rac:'+str(a))\n",
    "    print(l)\n",
    "    print('digonal of rac:'+str(c))\n",
    "mas()"
   ]
  },
  {
   "cell_type": "code",
   "execution_count": 35,
   "id": "a75b87df",
   "metadata": {},
   "outputs": [
    {
     "name": "stdout",
     "output_type": "stream",
     "text": [
      "37.22222222222222\n",
      "1.6666666666666667\n",
      "98.6\n"
     ]
    }
   ],
   "source": [
    "#WAF to find the farenheit values corresponding to Celcius values ranging from 0 to 40\n",
    "def tempe(f=99):\n",
    "    c=(f-32)*5/9\n",
    "    print(c)\n",
    "tempe()\n",
    "tempe(35)\n",
    "def temp(C=37):\n",
    "    f=(9*C/5+32)\n",
    "    print(f)\n",
    "temp()"
   ]
  },
  {
   "cell_type": "code",
   "execution_count": 37,
   "id": "f77bae9e",
   "metadata": {},
   "outputs": [
    {
     "name": "stdout",
     "output_type": "stream",
     "text": [
      "radius of cone is :5.0\n",
      "slant height of cone is :7.810249675906654\n",
      "total surface area (TSA) of cone is :201.1209199117345\n",
      "circular area of cone is :122.62091991173448\n"
     ]
    }
   ],
   "source": [
    "#WAF to find the TSA of a cone given its volume and height. Also find the area of the circular base?\n",
    "def cone(h=6,v=157):\n",
    "    r=(v*3/(3.14*h))**(1/2)\n",
    "    s=(h**2+r**2)**(1/2)\n",
    "    area=3.14*r*(r+s)\n",
    "    csa=3.14*r*s\n",
    "    print(f\"radius of cone is :{r}\")\n",
    "    print(f\"slant height of cone is :{s}\")\n",
    "    print(f\"total surface area (TSA) of cone is :{area}\")\n",
    "    print(f\"circular area of cone is :{csa}\")\n",
    "cone()"
   ]
  },
  {
   "cell_type": "code",
   "execution_count": 45,
   "id": "64ca2bed",
   "metadata": {},
   "outputs": [
    {
     "data": {
      "text/plain": [
       "1"
      ]
     },
     "execution_count": 45,
     "metadata": {},
     "output_type": "execute_result"
    }
   ],
   "source": [
    "#WAF to find the sum and product of digits of a given number as its argument???\n",
    "def num1(n):\n",
    "    sum1=0\n",
    "    for i in (n):\n",
    "        sum1=sum1+int(i)\n",
    "        return sum1\n",
    "num1(str(111))"
   ]
  },
  {
   "cell_type": "code",
   "execution_count": 46,
   "id": "1d105a04",
   "metadata": {},
   "outputs": [
    {
     "name": "stdout",
     "output_type": "stream",
     "text": [
      "55\n"
     ]
    }
   ],
   "source": [
    "#WAF to find n digits of fibonaci series, given n as agrument using recursion?\n",
    "def Fib(n):  \n",
    "    # First Fibonacci number is 0 \n",
    "    if n==0: \n",
    "        return 0\n",
    "    # Second Fibonacci number is 1 \n",
    "    elif n==1: \n",
    "        return 1\n",
    "    else: \n",
    "        return Fib(n-1)+Fib(n-2)\n",
    "    \n",
    "print(Fib(10)) "
   ]
  },
  {
   "cell_type": "code",
   "execution_count": 48,
   "id": "6e9e4507",
   "metadata": {},
   "outputs": [
    {
     "name": "stdout",
     "output_type": "stream",
     "text": [
      "131\n"
     ]
    }
   ],
   "source": [
    "#WAF to check if a number is palindrome?\n",
    "def numispalindrome(i):\n",
    "    n=str(i)\n",
    "    if (str(i)==n[::-1]):\n",
    "        print(i)\n",
    "    else:\n",
    "        print(0)\n",
    "numispalindrome(131)"
   ]
  },
  {
   "cell_type": "code",
   "execution_count": 49,
   "id": "407cfc7a",
   "metadata": {},
   "outputs": [
    {
     "name": "stdout",
     "output_type": "stream",
     "text": [
      "153 is an armstrong number.\n"
     ]
    }
   ],
   "source": [
    "#WAF to check if a number is armstrong?\n",
    "def armstrong(n):\n",
    "    #n=abc\n",
    "    num=str(n)\n",
    "    len1=len(num)\n",
    "    n1=0\n",
    "    for i in range(0,len1):\n",
    "        n1+=(int(num[i])**3)\n",
    "    if (n==n1):\n",
    "        print(f\"{n} is an armstrong number.\")\n",
    "    else:\n",
    "        print(f\"{n} is not an armstrong number.\")\n",
    "        \n",
    "armstrong(153)"
   ]
  },
  {
   "cell_type": "code",
   "execution_count": 52,
   "id": "4cae2102",
   "metadata": {},
   "outputs": [
    {
     "name": "stdout",
     "output_type": "stream",
     "text": [
      "Enter first number: 48\n",
      "Enter second number: 12\n"
     ]
    },
    {
     "ename": "NameError",
     "evalue": "name 'find_gcd' is not defined",
     "output_type": "error",
     "traceback": [
      "\u001b[1;31m---------------------------------------------------------------------------\u001b[0m",
      "\u001b[1;31mNameError\u001b[0m                                 Traceback (most recent call last)",
      "Input \u001b[1;32mIn [52]\u001b[0m, in \u001b[0;36m<cell line: 14>\u001b[1;34m()\u001b[0m\n\u001b[0;32m     11\u001b[0m second \u001b[38;5;241m=\u001b[39m \u001b[38;5;28mint\u001b[39m(\u001b[38;5;28minput\u001b[39m(\u001b[38;5;124m'\u001b[39m\u001b[38;5;124mEnter second number: \u001b[39m\u001b[38;5;124m'\u001b[39m))\n\u001b[0;32m     13\u001b[0m \u001b[38;5;66;03m# Function call & displaying output HCF \u001b[39;00m\n\u001b[1;32m---> 14\u001b[0m \u001b[38;5;28mprint\u001b[39m(\u001b[38;5;124m'\u001b[39m\u001b[38;5;124mHCF of \u001b[39m\u001b[38;5;132;01m%d\u001b[39;00m\u001b[38;5;124m and \u001b[39m\u001b[38;5;132;01m%d\u001b[39;00m\u001b[38;5;124m is \u001b[39m\u001b[38;5;132;01m%d\u001b[39;00m\u001b[38;5;124m'\u001b[39m \u001b[38;5;241m%\u001b[39m(first, second, \u001b[43mfind_gcd\u001b[49m(first, second)))\n\u001b[0;32m     16\u001b[0m \u001b[38;5;66;03m# Calculating LCM\u001b[39;00m\n\u001b[0;32m     17\u001b[0m lcm \u001b[38;5;241m=\u001b[39m first \u001b[38;5;241m*\u001b[39m second \u001b[38;5;241m/\u001b[39m find_gcd(first, second)\n",
      "\u001b[1;31mNameError\u001b[0m: name 'find_gcd' is not defined"
     ]
    }
   ],
   "source": [
    "#WAF to find HCF and LCM of 2 given numbers?\n",
    "import math\n",
    "def numberhcf(a,b):\n",
    "    for n in range (1,n+1):\n",
    "        if (a%n==0 and b%n==0):\n",
    "            hcf=n\n",
    "        return hcf\n",
    "\n",
    "# Reading numbers from user\n",
    "first = int(input('Enter first number: '))\n",
    "second = int(input('Enter second number: '))\n",
    "\n",
    "# Function call & displaying output HCF \n",
    "print('HCF of %d and %d is %d' %(first, second, find_gcd(first, second)))\n",
    "\n",
    "# Calculating LCM\n",
    "lcm = first * second / find_gcd(first, second)\n",
    "print('LCM of %d and %d is %d' %(first, second, lcm))\n",
    "numberhcf()"
   ]
  },
  {
   "cell_type": "code",
   "execution_count": 53,
   "id": "32f5019c",
   "metadata": {},
   "outputs": [
    {
     "name": "stdout",
     "output_type": "stream",
     "text": [
      "19\n",
      "Lower case characters:  11\n",
      "Upper case characters:  5\n",
      "Number of space:  3\n"
     ]
    }
   ],
   "source": [
    "#WAF to find the number of uppercase ,lowercase and space characters given a string as its arguments?\n",
    "s = \"My Name IS Himanshu\"\n",
    "l,u,s1 = 0,0,0\n",
    "for i in s: \n",
    "    if (i>='a'and i<='z'): \n",
    "        l=l+1                   \n",
    "    elif (i>='A'and i<='Z'): \n",
    "        u=u+1\n",
    "    elif (i==chr(32)):\n",
    "        s1=s1+1\n",
    "        \n",
    "len(s)\n",
    "print(len(s))       \n",
    "print('Lower case characters: ',l) \n",
    "print('Upper case characters: ',u)\n",
    "print('Number of space: ',s1) "
   ]
  },
  {
   "cell_type": "code",
   "execution_count": 9,
   "id": "b8b67f24",
   "metadata": {},
   "outputs": [
    {
     "name": "stdout",
     "output_type": "stream",
     "text": [
      "2 is a prime number\n",
      "1 is not a prime number\n",
      "3 is a prime number\n",
      "11 is a prime number\n",
      "24 is not a prime number\n",
      "49 is not a prime number\n"
     ]
    }
   ],
   "source": [
    "#WAF to check if a number is prime or not\n",
    "def check_prime(num):\n",
    "    if num > 1:\n",
    "    # Iterate from 2 to n / 2\n",
    "        for i in range(2, int(num/2)+1):\n",
    "        # If num is divisible by any number between\n",
    "        # 2 and n / 2, it is not prime\n",
    "            if (num % i) == 0:\n",
    "                print(num, \"is not a prime number\")\n",
    "                break\n",
    "\n",
    "        else:\n",
    "            print(num, \"is a prime number\")\n",
    "    else:\n",
    "        print(num, \"is not a prime number\") \n",
    "\n",
    "check_prime(2)\n",
    "check_prime(1)\n",
    "check_prime(3)\n",
    "check_prime(11)\n",
    "check_prime(24)\n",
    "check_prime(49)"
   ]
  },
  {
   "cell_type": "code",
   "execution_count": null,
   "id": "c6239311",
   "metadata": {},
   "outputs": [],
   "source": []
  }
 ],
 "metadata": {
  "kernelspec": {
   "display_name": "Python 3 (ipykernel)",
   "language": "python",
   "name": "python3"
  },
  "language_info": {
   "codemirror_mode": {
    "name": "ipython",
    "version": 3
   },
   "file_extension": ".py",
   "mimetype": "text/x-python",
   "name": "python",
   "nbconvert_exporter": "python",
   "pygments_lexer": "ipython3",
   "version": "3.9.12"
  }
 },
 "nbformat": 4,
 "nbformat_minor": 5
}
